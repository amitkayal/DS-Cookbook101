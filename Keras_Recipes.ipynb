{
  "nbformat": 4,
  "nbformat_minor": 0,
  "metadata": {
    "colab": {
      "name": "Keras Recipes.ipynb",
      "provenance": [],
      "collapsed_sections": [],
      "authorship_tag": "ABX9TyMrVRYiBIL0GduezNvdvJzK",
      "include_colab_link": true
    },
    "kernelspec": {
      "name": "python3",
      "display_name": "Python 3"
    }
  },
  "cells": [
    {
      "cell_type": "markdown",
      "metadata": {
        "id": "view-in-github",
        "colab_type": "text"
      },
      "source": [
        "<a href=\"https://colab.research.google.com/github/kaushil24/DS-Cookbook101/blob/master/Keras_Recipes.ipynb\" target=\"_parent\"><img src=\"https://colab.research.google.com/assets/colab-badge.svg\" alt=\"Open In Colab\"/></a>"
      ]
    },
    {
      "cell_type": "markdown",
      "metadata": {
        "id": "KDrMa25GyHJE",
        "colab_type": "text"
      },
      "source": [
        "# Keras Recipes:"
      ]
    },
    {
      "cell_type": "markdown",
      "metadata": {
        "id": "Nz_-6ABtyRU0",
        "colab_type": "text"
      },
      "source": [
        "## LSTM\n",
        "A comprenensive article here: https://towardsdatascience.com/time-series-analysis-visualization-forecasting-with-lstm-77a905180eba"
      ]
    },
    {
      "cell_type": "markdown",
      "metadata": {
        "id": "t0P9uoe3yold",
        "colab_type": "text"
      },
      "source": [
        "## Preprocessing data (Univariate)\n",
        "\n",
        "```train``` variable must be a numpy array of the following form:\n",
        "\n",
        "\n",
        "| X | y |\n",
        "| --- | --- |\n",
        "|x0|y0|\n",
        "| ... | ... |\n",
        "|xn | yn |\n",
        "\n",
        "Here the shape of ```train``` is (n, 2) where 0th column is the feature and 1st column is the label\n",
        "\n",
        "```\n",
        "import pandas as pd\n",
        "import numpy as np\n",
        "\n",
        "def create_dataset(dataset, look_back=1):\n",
        "    X, Y = [], []\n",
        "    for i in range(len(dataset)-look_back-1):\n",
        "        a = dataset[i:(i+look_back), 0]\n",
        "        X.append(a)\n",
        "        Y.append(dataset[i + look_back, 0])\n",
        "    return np.array(X), np.array(Y)\n",
        "    \n",
        "look_back = 30\n",
        "X_train, Y_train = create_dataset(train, look_back)\n",
        "X_test, Y_test = create_dataset(test, look_back)\n",
        "\n",
        "# reshape input to be [samples, time steps, features]\n",
        "X_train = np.reshape(X_train, (X_train.shape[0], 1, X_train.shape[1]))\n",
        "X_test = np.reshape(X_test, (X_test.shape[0], 1, X_test.shape[1]))\n",
        "```\n",
        "## Modelling\n",
        "```\n",
        "from keras.models import Sequential\n",
        "from keras.layers import Dense, Flatten, Dropout, LSTM\n",
        "\n",
        "model = Sequential()\n",
        "model.add(LSTM(100, input_shape=(X_train.shape[1], X_train.shape[2])))\n",
        "model.add(Dropout(0.2))\n",
        "model.add(Dense(1))\n",
        "model.compile(loss='mean_squared_error', optimizer='adam')\n",
        "\n",
        "history = model.fit(X_train, Y_train, epochs=20, batch_size=70, validation_data=(X_test, Y_test), \n",
        "                    callbacks=[EarlyStopping(monitor='val_loss', patience=10)], verbose=1, shuffle=False)\n",
        "\n",
        "model.summary()\n",
        "```"
      ]
    },
    {
      "cell_type": "code",
      "metadata": {
        "id": "qdLh7BZu1bci",
        "colab_type": "code",
        "colab": {}
      },
      "source": [
        ""
      ],
      "execution_count": 0,
      "outputs": []
    }
  ]
}