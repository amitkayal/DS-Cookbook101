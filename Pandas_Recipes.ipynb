{
  "nbformat": 4,
  "nbformat_minor": 0,
  "metadata": {
    "colab": {
      "name": "Pandas Recipes.ipynb",
      "provenance": [],
      "collapsed_sections": [
        "Y9dnTAK212lh",
        "AYjBKFIBm4Na",
        "9QTM0CUciRQt",
        "C8gHrTE_l6dI",
        "z4uNLZUYnTMq"
      ],
      "include_colab_link": true
    },
    "kernelspec": {
      "name": "python3",
      "display_name": "Python 3"
    }
  },
  "cells": [
    {
      "cell_type": "markdown",
      "metadata": {
        "id": "view-in-github",
        "colab_type": "text"
      },
      "source": [
        "<a href=\"https://colab.research.google.com/github/kaushil24/DS-Cookbook101/blob/master/Pandas_Recipes.ipynb\" target=\"_parent\"><img src=\"https://colab.research.google.com/assets/colab-badge.svg\" alt=\"Open In Colab\"/></a>"
      ]
    },
    {
      "cell_type": "markdown",
      "metadata": {
        "id": "bczyGbIWzzqE",
        "colab_type": "text"
      },
      "source": [
        "# Some delicious ingredients for cooking a delicious Data Science dish\n",
        "* Reading CSV\n",
        "* Get list of categorical and numeric columns\n",
        "* Change Column Order\n",
        "* Conunt Number of Unique Values\n",
        "* Set Column as Index\n",
        "* Dropping a column\n",
        "* Sum of columns in dataframe\n",
        "* Replace string representing null values with np.NaN\n",
        "* Find total null values in DF\n",
        "* Corelation Matrix\n",
        "* Find non null values\n",
        "* Drop columns wihth null columns greather than threshold\n",
        "* Change datatype of columns\n",
        "* Brief summary of Df\n",
        "* Fill null values\n",
        "* One hot encoding\n",
        "* **Bonus recipes**\n"
      ]
    },
    {
      "cell_type": "markdown",
      "metadata": {
        "id": "Y9dnTAK212lh",
        "colab_type": "text"
      },
      "source": [
        "# Pandas"
      ]
    },
    {
      "cell_type": "markdown",
      "metadata": {
        "id": "AYjBKFIBm4Na",
        "colab_type": "text"
      },
      "source": [
        "## Reading CSV:"
      ]
    },
    {
      "cell_type": "markdown",
      "metadata": {
        "id": "2BDH6TrDm7yL",
        "colab_type": "text"
      },
      "source": [
        "```\n",
        "df = pd.read_csv(\"file.csv\", sep = ',' , na_values='absent')\n",
        "```<br>\n",
        "* sep = seperators <br>\n",
        "* na_values = Some datasets might have \"absent\" or other strings as null values. To replace them with np.NaN, use na_values, to tell pandas that these strings are supposed to be treated as null values."
      ]
    },
    {
      "cell_type": "markdown",
      "metadata": {
        "id": "r2Kbo0AUBJ4_",
        "colab_type": "text"
      },
      "source": [
        "## Get list of categorical and numeric columns:\n",
        "\n",
        "```\n",
        "cat_columns = df.select_dtypes(include='object').columns.tolist()\n",
        "num_columns = df.select_dtypes(exclude='object').columns.tolist()\n",
        "```"
      ]
    },
    {
      "cell_type": "markdown",
      "metadata": {
        "id": "9QTM0CUciRQt",
        "colab_type": "text"
      },
      "source": [
        "## Change column order"
      ]
    },
    {
      "cell_type": "markdown",
      "metadata": {
        "id": "pfNkExPliYBj",
        "colab_type": "text"
      },
      "source": [
        "Suppose the original order of culumns in dataframe is<br>\n",
        "``` df['col_3', 'col_4', 'col_2', 'col_1']``` <br>\n",
        "To reorder the columns, do the following:"
      ]
    },
    {
      "cell_type": "markdown",
      "metadata": {
        "id": "z58zm9T2imCC",
        "colab_type": "text"
      },
      "source": [
        "```\n",
        "df = df[['col_1', 'col_2', 'col_3', 'col_4']]\n",
        "```\n"
      ]
    },
    {
      "cell_type": "markdown",
      "metadata": {
        "id": "vA1hgJu4PRMO",
        "colab_type": "text"
      },
      "source": [
        "## Count number of unique values"
      ]
    },
    {
      "cell_type": "markdown",
      "metadata": {
        "id": "5z3sU8iVPWTo",
        "colab_type": "text"
      },
      "source": [
        "**NOTE: The following is a function that belongs to a series.** <br>\n",
        "This function returns a seris with the keyas as the unique entities present in the calling series and the values as the number occurance of those values:"
      ]
    },
    {
      "cell_type": "markdown",
      "metadata": {
        "id": "lNZeBDGDPg7k",
        "colab_type": "text"
      },
      "source": [
        "```\n",
        "df['col_name'].value_couts()\n",
        "```"
      ]
    },
    {
      "cell_type": "markdown",
      "metadata": {
        "id": "R7uElPMV14-j",
        "colab_type": "text"
      },
      "source": [
        "## Set a column as index"
      ]
    },
    {
      "cell_type": "markdown",
      "metadata": {
        "id": "q2tXFD-76QhQ",
        "colab_type": "text"
      },
      "source": [
        "```df.set_index(col_name, drop=bool)``` <br>\n",
        "* col_name = name of column to set as index\n",
        "* drop = True if you want to drop the indexed column\n",
        "\n",
        "https://pandas.pydata.org/pandas-docs/stable/reference/api/pandas.DataFrame.set_index.html"
      ]
    },
    {
      "cell_type": "markdown",
      "metadata": {
        "id": "8RrAnvzI2oFR",
        "colab_type": "text"
      },
      "source": [
        "## Dropping a column in data frame"
      ]
    },
    {
      "cell_type": "markdown",
      "metadata": {
        "id": "QBggNRK16OWG",
        "colab_type": "text"
      },
      "source": [
        "```df.drop(name, axis, inplace=bool)```\n",
        "* name = name of columns or a list of columns OR keys of rows\n",
        "* axis = 0-> rows | 1->columns\n",
        "* inplace = If True, makes changes in iteslt. If false, returns a new dataframe with dropped columns\n",
        "\n",
        "https://pandas.pydata.org/pandas-docs/stable/reference/api/pandas.DataFrame.drop.html"
      ]
    },
    {
      "cell_type": "markdown",
      "metadata": {
        "id": "hqwk1cII_AYj",
        "colab_type": "text"
      },
      "source": [
        "## Sum of columns in dataframe"
      ]
    },
    {
      "cell_type": "markdown",
      "metadata": {
        "id": "GYK0F1Nc_HtA",
        "colab_type": "text"
      },
      "source": [
        "``` df.sum() ``` <br>\n",
        "Returns a pd.Series with the keys being the column name of dataframe and the values being the sum of those columns. <br>\n",
        "*i.e.* It is used to find sum of all the columns <br>\n",
        "* **NODE** It the columns is a string, it'll concat all the elements of that columns.\n",
        "\n",
        "https://pandas.pydata.org/pandas-docs/stable/reference/api/pandas.DataFrame.sum.html"
      ]
    },
    {
      "cell_type": "markdown",
      "metadata": {
        "id": "QHhCBK1nhdyq",
        "colab_type": "text"
      },
      "source": [
        "## Replace string representing null values with np.NaN"
      ]
    },
    {
      "cell_type": "markdown",
      "metadata": {
        "id": "oBUnLO4choc_",
        "colab_type": "text"
      },
      "source": [
        "Suppose your data frame has \"Absent\" as null value, then to replace \"Absent\" with np.NaN, the following snippet can be used"
      ]
    },
    {
      "cell_type": "markdown",
      "metadata": {
        "id": "rlcpx8IBh3RX",
        "colab_type": "text"
      },
      "source": [
        "```\n",
        "import numpy as np\n",
        "df.replace(to_replace=\"Absent\", value=np.NaN, inplace=True)\n",
        "```"
      ]
    },
    {
      "cell_type": "markdown",
      "metadata": {
        "id": "kfD2qVNz_K48",
        "colab_type": "text"
      },
      "source": [
        "## Find total null values in DF"
      ]
    },
    {
      "cell_type": "markdown",
      "metadata": {
        "id": "Vvr0QfYV_y1c",
        "colab_type": "text"
      },
      "source": [
        "```df.isnull().sum().sort_values(ascending=False)```\n"
      ]
    },
    {
      "cell_type": "markdown",
      "metadata": {
        "id": "PZGN1U-jOzsS",
        "colab_type": "text"
      },
      "source": [
        "## Corelation Matrix"
      ]
    },
    {
      "cell_type": "markdown",
      "metadata": {
        "id": "B0w9WRf-O29e",
        "colab_type": "text"
      },
      "source": [
        "```\n",
        "df.corr()\n",
        "```"
      ]
    },
    {
      "cell_type": "markdown",
      "metadata": {
        "id": "ZwpF-FlEePKL",
        "colab_type": "text"
      },
      "source": [
        "## Find non null values:"
      ]
    },
    {
      "cell_type": "markdown",
      "metadata": {
        "id": "_7ffRxSTeUm8",
        "colab_type": "text"
      },
      "source": [
        "```df.notnull()```\n",
        "<br>Returns a series. "
      ]
    },
    {
      "cell_type": "markdown",
      "metadata": {
        "id": "qJRoEZT8A_fo",
        "colab_type": "text"
      },
      "source": [
        "## Drop columns with null values greater than a threshold:"
      ]
    },
    {
      "cell_type": "markdown",
      "metadata": {
        "id": "V7ny3KExDmrD",
        "colab_type": "text"
      },
      "source": [
        "\n",
        "\n",
        "```\n",
        "df.drop(df.loc[: ,df.isnull().sum()> theta].columns, axis=1, inplace=True)\n",
        "```\n",
        "**EXPLAINATION**\n",
        "1. _df.isnull().sum() > theta_ : Returns as series where the key is column name and the values are a bool values. Something of the type: <br>\n",
        "> * _col_1_ True\n",
        "> * _col_2_ False\n",
        "> * _col_3_ False\n",
        "> ...\n",
        "This will serve as arguments to df.loc[ ].\n",
        "2. _df.loc[rows, columns ]_ : The second argument in df.loc is a boolean pd.series. df.loc will return a pd.DataFrame with all the rows and the columns which were \"true\" in the pd.Series provided. \n",
        "3. _df.loc[ ].columns_ : Returns a list of columns, whose total null values are greater than theta.\n",
        "4. df.drop(): Drops these columns.\n"
      ]
    },
    {
      "cell_type": "markdown",
      "metadata": {
        "id": "hjxmxFrnmWi1",
        "colab_type": "text"
      },
      "source": [
        "## Change data type of all rows in a column (eg str to int)"
      ]
    },
    {
      "cell_type": "markdown",
      "metadata": {
        "id": "ecv4_0tlmhxP",
        "colab_type": "text"
      },
      "source": [
        "```\n",
        "df['col_name'] = df['col_name'].astype(int)\n",
        "```"
      ]
    },
    {
      "cell_type": "markdown",
      "metadata": {
        "id": "XgYNa67JF3CN",
        "colab_type": "text"
      },
      "source": [
        "## Brief summary of a series or DF"
      ]
    },
    {
      "cell_type": "markdown",
      "metadata": {
        "id": "C8XWdyxgbtfZ",
        "colab_type": "text"
      },
      "source": [
        "```df.describe() ``` <br>\n",
        "or <br>\n",
        "```series.describe()```"
      ]
    },
    {
      "cell_type": "markdown",
      "metadata": {
        "id": "_VLjNT0B-ys2",
        "colab_type": "text"
      },
      "source": [
        "## Get info about datatypes of various columns in dataframe"
      ]
    },
    {
      "cell_type": "markdown",
      "metadata": {
        "id": "1gaJLJMe-52z",
        "colab_type": "text"
      },
      "source": [
        "```\n",
        "df.info()\n",
        "```"
      ]
    },
    {
      "cell_type": "markdown",
      "metadata": {
        "id": "swIJKnTOb2oi",
        "colab_type": "text"
      },
      "source": [
        "## Fill null values:"
      ]
    },
    {
      "cell_type": "markdown",
      "metadata": {
        "id": "bZs6SsXQgn63",
        "colab_type": "text"
      },
      "source": [
        "```\n",
        "df.col_name.fillna(value, inplace=True)\n",
        "<br> **OR**\n",
        "<br> \n",
        "df.loc[df.col_name.isnull(), ['col_name']] = value\n",
        "```"
      ]
    },
    {
      "cell_type": "markdown",
      "metadata": {
        "id": "G33UxcDiuEJi",
        "colab_type": "text"
      },
      "source": [
        "## Datatype of a cell in Dataframe"
      ]
    },
    {
      "cell_type": "markdown",
      "metadata": {
        "id": "hmb0-rP5u49g",
        "colab_type": "text"
      },
      "source": [
        "**Know the index number lies**\n",
        "```\n",
        "df.loc[df['column_name'].isnull(), ['column_name']][:5]\n",
        "```"
      ]
    },
    {
      "cell_type": "markdown",
      "metadata": {
        "id": "WCybXq4cuRI9",
        "colab_type": "text"
      },
      "source": [
        "```\n",
        "type(df['com_name'][index_no])\n",
        "```"
      ]
    },
    {
      "cell_type": "markdown",
      "metadata": {
        "id": "0LkOlwlC5wUS",
        "colab_type": "text"
      },
      "source": [
        "## Know datatype of columns in a dataframe"
      ]
    },
    {
      "cell_type": "markdown",
      "metadata": {
        "id": "t4-X0DLD50cF",
        "colab_type": "text"
      },
      "source": [
        "```\n",
        "df.dtypes\n",
        "```"
      ]
    },
    {
      "cell_type": "markdown",
      "metadata": {
        "id": "9n2U4D3HhMTs",
        "colab_type": "text"
      },
      "source": [
        "## One hot Encoding:\n",
        "\n",
        "__NOTE__ : At times, some values might not be present in our test data but might otherwise be present in our test data. To deal with such scenario,\n",
        "refer to this link:\n",
        "http://queirozf.com/entries/one-hot-encoding-a-feature-on-a-pandas-dataframe-an-example"
      ]
    },
    {
      "cell_type": "markdown",
      "metadata": {
        "id": "YS-LYn40hV5_",
        "colab_type": "text"
      },
      "source": [
        "```\n",
        "df_encoded = pd.get_dummies(df, columns = ['categorical_col_1', 'categorical_col_2'])\n",
        "```\n",
        "* columns = list of columns you want to one hot encode.\n",
        "* It automatically detetcs the categorical features and one hot encodes them and appends them to dataframe and returns this new dataframe."
      ]
    },
    {
      "cell_type": "markdown",
      "metadata": {
        "id": "QJUCoBanikke",
        "colab_type": "text"
      },
      "source": [
        "### In order to make selected features one hot encoded, perform the following:"
      ]
    },
    {
      "cell_type": "markdown",
      "metadata": {
        "id": "ga5IWkrzitjU",
        "colab_type": "text"
      },
      "source": [
        "```\n",
        "df_encoded = df.join(pd.getdummies(df['categirical_col_1', 'categorical_col_2']).drop(['categorical_col_1', 'categorical_col_2'], axis = 1)\n",
        "```"
      ]
    },
    {
      "cell_type": "markdown",
      "metadata": {
        "id": "C8gHrTE_l6dI",
        "colab_type": "text"
      },
      "source": [
        "# Bonus Recipes \n",
        "Some random hacks"
      ]
    },
    {
      "cell_type": "markdown",
      "metadata": {
        "id": "z4uNLZUYnTMq",
        "colab_type": "text"
      },
      "source": [
        "## To generate a summary of your dataset with way more detail and aesthetics"
      ]
    },
    {
      "cell_type": "markdown",
      "metadata": {
        "id": "LTo5kY3Ljwf9",
        "colab_type": "text"
      },
      "source": [
        "<h4> TRY THIS :D"
      ]
    },
    {
      "cell_type": "markdown",
      "metadata": {
        "id": "i4oI8Vmbj2et",
        "colab_type": "text"
      },
      "source": [
        "```\n",
        "import pandas_profiling as pp\n",
        "pp.ProfileReport(df)\n",
        "```"
      ]
    },
    {
      "cell_type": "code",
      "metadata": {
        "id": "JGGZASyUj6J5",
        "colab_type": "code",
        "colab": {}
      },
      "source": [
        ""
      ],
      "execution_count": 0,
      "outputs": []
    }
  ]
}