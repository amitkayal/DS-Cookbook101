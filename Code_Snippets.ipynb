{
  "nbformat": 4,
  "nbformat_minor": 0,
  "metadata": {
    "colab": {
      "name": "Code Snippets.ipynb",
      "provenance": [],
      "collapsed_sections": [
        "Y9dnTAK212lh",
        "yUVn7ALetAm1"
      ],
      "include_colab_link": true
    },
    "kernelspec": {
      "name": "python3",
      "display_name": "Python 3"
    }
  },
  "cells": [
    {
      "cell_type": "markdown",
      "metadata": {
        "id": "view-in-github",
        "colab_type": "text"
      },
      "source": [
        "<a href=\"https://colab.research.google.com/github/kaushil24/DS-Cookbook101/blob/master/Code_Snippets.ipynb\" target=\"_parent\"><img src=\"https://colab.research.google.com/assets/colab-badge.svg\" alt=\"Open In Colab\"/></a>"
      ]
    },
    {
      "cell_type": "markdown",
      "metadata": {
        "id": "bczyGbIWzzqE",
        "colab_type": "text"
      },
      "source": [
        "# Script having recursively used important functions of ML\n",
        "* Pandas\n",
        "* Numpy\n",
        "* Scikitlearn\n",
        "* Pyplot\n",
        "* Seaborn\n"
      ]
    },
    {
      "cell_type": "markdown",
      "metadata": {
        "id": "Y9dnTAK212lh",
        "colab_type": "text"
      },
      "source": [
        "# Pandas"
      ]
    },
    {
      "cell_type": "markdown",
      "metadata": {
        "id": "R7uElPMV14-j",
        "colab_type": "text"
      },
      "source": [
        "## Set a column as index"
      ]
    },
    {
      "cell_type": "markdown",
      "metadata": {
        "id": "q2tXFD-76QhQ",
        "colab_type": "text"
      },
      "source": [
        "```df.set_index(col_name, drop=bool)``` <br>\n",
        "* col_name = name of column to set as index\n",
        "* drop = True if you want to drop the indexed column\n",
        "\n",
        "https://pandas.pydata.org/pandas-docs/stable/reference/api/pandas.DataFrame.set_index.html"
      ]
    },
    {
      "cell_type": "markdown",
      "metadata": {
        "id": "8RrAnvzI2oFR",
        "colab_type": "text"
      },
      "source": [
        "## Dropping a column in data frame"
      ]
    },
    {
      "cell_type": "markdown",
      "metadata": {
        "id": "QBggNRK16OWG",
        "colab_type": "text"
      },
      "source": [
        "```df.drop(name, axis, inplace=bool)```\n",
        "* name = name of columns or a list of columns OR keys of rows\n",
        "* axis = 0-> rows | 1->columns\n",
        "* inplace = If True, makes changes in iteslt. If false, returns a new dataframe with dropped columns\n",
        "\n",
        "https://pandas.pydata.org/pandas-docs/stable/reference/api/pandas.DataFrame.drop.html"
      ]
    },
    {
      "cell_type": "markdown",
      "metadata": {
        "id": "hqwk1cII_AYj",
        "colab_type": "text"
      },
      "source": [
        "## Sum of columns in dataframe"
      ]
    },
    {
      "cell_type": "markdown",
      "metadata": {
        "id": "GYK0F1Nc_HtA",
        "colab_type": "text"
      },
      "source": [
        "``` df.sum() ``` <br>\n",
        "Returns a pd.Series with the keys being the column name of dataframe and the values being the sum of those columns. <br>\n",
        "*i.e.* It is used to find sum of all the columns <br>\n",
        "* **NODE** It the columns is a string, it'll concat all the elements of that columns.\n",
        "\n",
        "https://pandas.pydata.org/pandas-docs/stable/reference/api/pandas.DataFrame.sum.html"
      ]
    },
    {
      "cell_type": "markdown",
      "metadata": {
        "id": "kfD2qVNz_K48",
        "colab_type": "text"
      },
      "source": [
        "## Find total null values in DF"
      ]
    },
    {
      "cell_type": "markdown",
      "metadata": {
        "id": "Vvr0QfYV_y1c",
        "colab_type": "text"
      },
      "source": [
        "```df.isnull().sum().sort_values(ascending=False)```\n"
      ]
    },
    {
      "cell_type": "markdown",
      "metadata": {
        "id": "PZGN1U-jOzsS",
        "colab_type": "text"
      },
      "source": [
        "## Corelation Matrix"
      ]
    },
    {
      "cell_type": "markdown",
      "metadata": {
        "id": "B0w9WRf-O29e",
        "colab_type": "text"
      },
      "source": [
        "```\n",
        "df.corr()\n",
        "```"
      ]
    },
    {
      "cell_type": "markdown",
      "metadata": {
        "id": "ZwpF-FlEePKL",
        "colab_type": "text"
      },
      "source": [
        "## Find non null values:"
      ]
    },
    {
      "cell_type": "markdown",
      "metadata": {
        "id": "_7ffRxSTeUm8",
        "colab_type": "text"
      },
      "source": [
        "```df.notnull()```\n",
        "<br>Returns a series. "
      ]
    },
    {
      "cell_type": "markdown",
      "metadata": {
        "id": "qJRoEZT8A_fo",
        "colab_type": "text"
      },
      "source": [
        "## Drop columns with null values greater than a threshold:"
      ]
    },
    {
      "cell_type": "markdown",
      "metadata": {
        "id": "V7ny3KExDmrD",
        "colab_type": "text"
      },
      "source": [
        "\n",
        "\n",
        "```\n",
        "df.drop(df.loc[: ,df.isnull().sum()> theta].columns, axis=1, inplace=True)\n",
        "```\n",
        "**EXPLAINATION**\n",
        "1. _df.isnull().sum() > theta_ : Returns as series where the key is column name and the values are a bool values. Something of the type: <br>\n",
        "> * _col_1_ True\n",
        "> * _col_2_ False\n",
        "> * _col_3_ False\n",
        "> ...\n",
        "This will serve as arguments to df.loc[ ].\n",
        "2. _df.loc[rows, columns ]_ : The second argument in df.loc is a boolean pd.series. df.loc will return a pd.DataFrame with all the rows and the columns which were \"true\" in the pd.Series provided. \n",
        "3. _df.loc[ ].columns_ : Returns a list of columns, whose total null values are greater than theta.\n",
        "4. df.drop(): Drops these columns.\n"
      ]
    },
    {
      "cell_type": "markdown",
      "metadata": {
        "id": "XgYNa67JF3CN",
        "colab_type": "text"
      },
      "source": [
        "## Brief summary of a series or DF"
      ]
    },
    {
      "cell_type": "markdown",
      "metadata": {
        "id": "C8XWdyxgbtfZ",
        "colab_type": "text"
      },
      "source": [
        "```df.describe() ``` <br>\n",
        "or <br>\n",
        "```series.describe()```"
      ]
    },
    {
      "cell_type": "markdown",
      "metadata": {
        "id": "_VLjNT0B-ys2",
        "colab_type": "text"
      },
      "source": [
        "## Get info about datatypes of various columns in dataframe"
      ]
    },
    {
      "cell_type": "markdown",
      "metadata": {
        "id": "1gaJLJMe-52z",
        "colab_type": "text"
      },
      "source": [
        "```\n",
        "df.info()\n",
        "```"
      ]
    },
    {
      "cell_type": "markdown",
      "metadata": {
        "id": "swIJKnTOb2oi",
        "colab_type": "text"
      },
      "source": [
        "## Fill null values:"
      ]
    },
    {
      "cell_type": "markdown",
      "metadata": {
        "id": "bZs6SsXQgn63",
        "colab_type": "text"
      },
      "source": [
        "```\n",
        "df.col_name.fillna(value, inplace=True)\n",
        "<br> **OR**\n",
        "<br> \n",
        "df.loc[df.col_name.isnull(), ['col_name']] = value\n",
        "```"
      ]
    },
    {
      "cell_type": "markdown",
      "metadata": {
        "id": "G33UxcDiuEJi",
        "colab_type": "text"
      },
      "source": [
        "## Datatype of a cell in Dataframe"
      ]
    },
    {
      "cell_type": "markdown",
      "metadata": {
        "id": "hmb0-rP5u49g",
        "colab_type": "text"
      },
      "source": [
        "**Know the index number lies**\n",
        "```\n",
        "df.loc[df['column_name'].isnull(), ['column_name']][:5]\n",
        "```"
      ]
    },
    {
      "cell_type": "markdown",
      "metadata": {
        "id": "WCybXq4cuRI9",
        "colab_type": "text"
      },
      "source": [
        "```\n",
        "type(df['com_name'][index_no])\n",
        "```"
      ]
    },
    {
      "cell_type": "markdown",
      "metadata": {
        "id": "0LkOlwlC5wUS",
        "colab_type": "text"
      },
      "source": [
        "## Know datatype of columns in a dataframe"
      ]
    },
    {
      "cell_type": "markdown",
      "metadata": {
        "id": "t4-X0DLD50cF",
        "colab_type": "text"
      },
      "source": [
        "```\n",
        "df.dtypes\n",
        "```"
      ]
    },
    {
      "cell_type": "markdown",
      "metadata": {
        "id": "9n2U4D3HhMTs",
        "colab_type": "text"
      },
      "source": [
        "## One hot Encoding:\n",
        "\n",
        "__NOTE__ : At times, some values might not be present in our test data but might otherwise be present in our test data. To deal with such scenario,\n",
        "refer to this link:\n",
        "http://queirozf.com/entries/one-hot-encoding-a-feature-on-a-pandas-dataframe-an-example"
      ]
    },
    {
      "cell_type": "markdown",
      "metadata": {
        "id": "YS-LYn40hV5_",
        "colab_type": "text"
      },
      "source": [
        "```\n",
        "df_encoded = pd.get_dummies(df)\n",
        "```\n",
        "* It automatically detetcs the categorical features and one hot encodes them and appends them to dataframe and returns this new dataframe."
      ]
    },
    {
      "cell_type": "markdown",
      "metadata": {
        "id": "QJUCoBanikke",
        "colab_type": "text"
      },
      "source": [
        "### In order to make selected features one hot encoded, perform the following:"
      ]
    },
    {
      "cell_type": "markdown",
      "metadata": {
        "id": "ga5IWkrzitjU",
        "colab_type": "text"
      },
      "source": [
        "```\n",
        "df_encoded = df.join(pd.getdummies(df['categirical_col_1', 'categorical_col_2']).drop(['categorical_col_1', 'categorical_col_2'], axis = 1)\n",
        "```"
      ]
    },
    {
      "cell_type": "markdown",
      "metadata": {
        "id": "yUVn7ALetAm1",
        "colab_type": "text"
      },
      "source": [
        "# Scikitlearn"
      ]
    },
    {
      "cell_type": "markdown",
      "metadata": {
        "id": "l_KNxxGetGPi",
        "colab_type": "text"
      },
      "source": [
        "## Train test split"
      ]
    },
    {
      "cell_type": "markdown",
      "metadata": {
        "id": "eNaiSwBZ0jCi",
        "colab_type": "text"
      },
      "source": [
        "``` \n",
        "from sklearn.model_selection import train_test_split\n",
        "trainX, testX, trainY, testY = train_test_split(df1[df1.columns.drop('label_col')], df1['label_col'], test_size=0.2)\n",
        "```"
      ]
    },
    {
      "cell_type": "markdown",
      "metadata": {
        "id": "Vx71Xntc0wb1",
        "colab_type": "text"
      },
      "source": [
        "## Linear Regression Model"
      ]
    },
    {
      "cell_type": "markdown",
      "metadata": {
        "id": "5n4UeMSI036g",
        "colab_type": "text"
      },
      "source": [
        "```\n",
        "from sklearn.linear_model import LinearRegression\n",
        "reg = LinearRegression()\n",
        "reg.fit(trainX, trainY)\n",
        "reg.score(trainX, trainY)\n",
        "```"
      ]
    },
    {
      "cell_type": "markdown",
      "metadata": {
        "id": "b7RKgJuPny29",
        "colab_type": "text"
      },
      "source": [
        "# Seaborn"
      ]
    },
    {
      "cell_type": "markdown",
      "metadata": {
        "id": "Z3-YirFN2PHQ",
        "colab_type": "text"
      },
      "source": [
        "## Change figure size:"
      ]
    },
    {
      "cell_type": "markdown",
      "metadata": {
        "id": "Kd5WUG9-2Std",
        "colab_type": "text"
      },
      "source": [
        "```\n",
        "plt.subplots(figsize=(width, hieght))\n",
        "sns.boxplot(x=\"col_name\", y=\"col_name\", data=data)\n",
        "```"
      ]
    },
    {
      "cell_type": "markdown",
      "metadata": {
        "id": "cxC8Ig8wx3n5",
        "colab_type": "text"
      },
      "source": [
        "## Change font size \n",
        "### (And other such graph properties.)"
      ]
    },
    {
      "cell_type": "markdown",
      "metadata": {
        "id": "IG81HCueyCR2",
        "colab_type": "text"
      },
      "source": [
        "```\n",
        "sns.set(context='notebook', style='darkgrid', palette='deep', font='sans-serif'  font_scale=1, color_codes=True, rc=None)\n",
        "```"
      ]
    },
    {
      "cell_type": "markdown",
      "metadata": {
        "id": "9VYQQhKxn1yo",
        "colab_type": "text"
      },
      "source": [
        "## Distribution Plot:"
      ]
    },
    {
      "cell_type": "markdown",
      "metadata": {
        "id": "vafrYJRVn8sB",
        "colab_type": "text"
      },
      "source": [
        "```\n",
        "sns.distplot(df['col_name'])\n",
        "```"
      ]
    },
    {
      "cell_type": "markdown",
      "metadata": {
        "id": "WMoV8_oHoGPr",
        "colab_type": "text"
      },
      "source": [
        "## Scatter Plot:"
      ]
    },
    {
      "cell_type": "markdown",
      "metadata": {
        "id": "g1-avQdX2CCo",
        "colab_type": "text"
      },
      "source": [
        "Note: You can also directly pass a vector to 'x' and 'y'. <br>\n",
        "Docs: https://seaborn.pydata.org/generated/seaborn.scatterplot.html"
      ]
    },
    {
      "cell_type": "markdown",
      "metadata": {
        "id": "2fyqCODn12H1",
        "colab_type": "text"
      },
      "source": [
        "```\n",
        "sns.scatterplot(x = 'col_name', y = 'col_name', data = dataFrame, hue = 'col_name')\n",
        "```"
      ]
    },
    {
      "cell_type": "markdown",
      "metadata": {
        "id": "Qvv0sK7_2BRT",
        "colab_type": "text"
      },
      "source": [
        "## Box Plot <br>"
      ]
    },
    {
      "cell_type": "markdown",
      "metadata": {
        "id": "flR-turAMoSY",
        "colab_type": "text"
      },
      "source": [
        "For categorical features, you can directly pass the string of the feature name and sns will automatically draw an individual boxplot for each category occuring in that feature. "
      ]
    },
    {
      "cell_type": "markdown",
      "metadata": {
        "id": "fqkfuG-zNDjd",
        "colab_type": "text"
      },
      "source": [
        "```\n",
        "sns.boxplot(x = 'col_name', y = 'col_name', data = dataFrame)\n",
        "```\n"
      ]
    },
    {
      "cell_type": "markdown",
      "metadata": {
        "id": "jFvt7C-5iGPN",
        "colab_type": "text"
      },
      "source": [
        "## Heat Map"
      ]
    },
    {
      "cell_type": "markdown",
      "metadata": {
        "id": "DhrUyLXgiIxz",
        "colab_type": "text"
      },
      "source": [
        "https://seaborn.pydata.org/generated/seaborn.heatmap.html\n",
        "```\n",
        "sns.heatmap(cor, annot=True, linewidths = float, linecolor='black')\n",
        "```\n",
        "**Note: If you dont want to dipslay the numeric value of each cell, put annot=False**"
      ]
    },
    {
      "cell_type": "markdown",
      "metadata": {
        "id": "eaKnmQgrNL7h",
        "colab_type": "text"
      },
      "source": [
        "### Corelation matrix:\n",
        "An easy way to visualize corealtion is to use heat map. Use the following snippet to display heat map.\n",
        "```\n",
        "corr_mtx = df.corr()\n",
        "sns.heatmap(corr_mtx, annot = True)\n",
        "```"
      ]
    },
    {
      "cell_type": "markdown",
      "metadata": {
        "id": "eE15UUk2izqW",
        "colab_type": "text"
      },
      "source": [
        "### Display heat map of only those columns with corelation greater than threshold (theta)\n",
        "```\n",
        "cor = df.corr()\n",
        "cols = cor[cor > theta].notnull().sum() > 1\n",
        "sns.heatmap(cor.loc[cols, cols])\n",
        "```"
      ]
    },
    {
      "cell_type": "markdown",
      "metadata": {
        "id": "7SaFszbEsI6H",
        "colab_type": "text"
      },
      "source": [
        "### Highlight cells with corelation values greater than threshold"
      ]
    },
    {
      "cell_type": "markdown",
      "metadata": {
        "id": "x2stQLo-wHof",
        "colab_type": "text"
      },
      "source": [
        "```\n",
        "sns.heatmap(cor[cor>theta], annot=True, linewidths=1, linecolor='white')\n",
        "```"
      ]
    },
    {
      "cell_type": "markdown",
      "metadata": {
        "id": "4DsqhY5yuN29",
        "colab_type": "text"
      },
      "source": [
        "![something like this ](https://i.imgur.com/XWiQsem.png)"
      ]
    },
    {
      "cell_type": "markdown",
      "metadata": {
        "id": "owlXY00PxpeC",
        "colab_type": "text"
      },
      "source": [
        "## Pair Plot\n",
        "Used to plot pairwise relationship in a dataset. <br> \n",
        "**ONE OF THE BEST CHARTS TO SEE RELATIONSHIPS**"
      ]
    },
    {
      "cell_type": "markdown",
      "metadata": {
        "id": "tkHK13J_xqC0",
        "colab_type": "text"
      },
      "source": [
        "```\n",
        "sns.pair(df[col_list])\n",
        "```"
      ]
    },
    {
      "cell_type": "code",
      "metadata": {
        "id": "tcjQLcNg2ViH",
        "colab_type": "code",
        "colab": {}
      },
      "source": [
        ""
      ],
      "execution_count": 0,
      "outputs": []
    }
  ]
}