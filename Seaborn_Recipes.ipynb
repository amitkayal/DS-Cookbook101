{
  "nbformat": 4,
  "nbformat_minor": 0,
  "metadata": {
    "colab": {
      "name": "Seaborn Recipes.ipynb",
      "provenance": [],
      "collapsed_sections": [
        "Z3-YirFN2PHQ",
        "rHVG9WLbk9bB",
        "PllQjMJjrISI",
        "9VYQQhKxn1yo",
        "WMoV8_oHoGPr",
        "ZDKJs-8FFIjv",
        "ixQxssrE_90Y",
        "owlXY00PxpeC",
        "hD4AzvgPhoX8",
        "3m59bBAPWMk-"
      ],
      "include_colab_link": true
    },
    "kernelspec": {
      "name": "python3",
      "display_name": "Python 3"
    }
  },
  "cells": [
    {
      "cell_type": "markdown",
      "metadata": {
        "id": "view-in-github",
        "colab_type": "text"
      },
      "source": [
        "<a href=\"https://colab.research.google.com/github/kaushil24/DS-Cookbook101/blob/master/Seaborn_Recipes.ipynb\" target=\"_parent\"><img src=\"https://colab.research.google.com/assets/colab-badge.svg\" alt=\"Open In Colab\"/></a>"
      ]
    },
    {
      "cell_type": "markdown",
      "metadata": {
        "id": "bczyGbIWzzqE",
        "colab_type": "text"
      },
      "source": [
        "# Beautiful decoration recipes\n",
        "* Change figure size\n",
        "* Change font size\n",
        "* Distribution plot\n",
        "* Scatter plot\n",
        "* Frequency distribution \n",
        "* Box Plot\n",
        "* Heat Map\n",
        "* Pair Plot\n",
        "* Pie Chart\n"
      ]
    },
    {
      "cell_type": "markdown",
      "metadata": {
        "id": "b7RKgJuPny29",
        "colab_type": "text"
      },
      "source": [
        "# Seaborn"
      ]
    },
    {
      "cell_type": "markdown",
      "metadata": {
        "id": "tIhKbTBFOAUp",
        "colab_type": "text"
      },
      "source": [
        "**A good [article](https://www.analyticsvidhya.com/blog/2019/09/comprehensive-data-visualization-guide-seaborn-python/?utm_source=feedburner&utm_medium=email&utm_campaign=Feed%3A+AnalyticsVidhya+%28Analytics+Vidhya%29) on various seaborn plots** "
      ]
    },
    {
      "cell_type": "markdown",
      "metadata": {
        "id": "Z3-YirFN2PHQ",
        "colab_type": "text"
      },
      "source": [
        "## Change figure size:"
      ]
    },
    {
      "cell_type": "markdown",
      "metadata": {
        "id": "Kd5WUG9-2Std",
        "colab_type": "text"
      },
      "source": [
        "```\n",
        "plt.figure(figsize=(width, hieght))\n",
        "sns.boxplot(x=\"col_name\", y=\"col_name\", data=data)\n",
        "```"
      ]
    },
    {
      "cell_type": "markdown",
      "metadata": {
        "id": "cxC8Ig8wx3n5",
        "colab_type": "text"
      },
      "source": [
        "## Change font Properties "
      ]
    },
    {
      "cell_type": "markdown",
      "metadata": {
        "id": "rHVG9WLbk9bB",
        "colab_type": "text"
      },
      "source": [
        "### Change axes' and title's font size "
      ]
    },
    {
      "cell_type": "markdown",
      "metadata": {
        "id": "5wODS7BulkWv",
        "colab_type": "text"
      },
      "source": [
        "```\n",
        "b = sns.boxplot(x=tips[\"total_bill\"])\n",
        "b.axes.set_title(\"Title\",fontsize=50)\n",
        "b.set_xlabel(\"X Label\",fontsize=30)\n",
        "b.set_ylabel(\"Y Label\",fontsize=20)\n",
        "b.tick_params(labelsize=5)\n",
        "```"
      ]
    },
    {
      "cell_type": "markdown",
      "metadata": {
        "id": "PllQjMJjrISI",
        "colab_type": "text"
      },
      "source": [
        "### Change all font style or size"
      ]
    },
    {
      "cell_type": "markdown",
      "metadata": {
        "id": "IG81HCueyCR2",
        "colab_type": "text"
      },
      "source": [
        "```\n",
        "sns.set(context='notebook', style='darkgrid', palette='deep', font='sans-serif',  font_scale=1, color_codes=True, rc=None)\n",
        "```"
      ]
    },
    {
      "cell_type": "markdown",
      "metadata": {
        "id": "1Pe50ac4wtTO",
        "colab_type": "text"
      },
      "source": [
        "### Chenge label rotation on axes:"
      ]
    },
    {
      "cell_type": "markdown",
      "metadata": {
        "id": "PfN0JLt-w2sC",
        "colab_type": "text"
      },
      "source": [
        "```\n",
        "plt.xticks(rotation=45, ha='right')\n",
        "```"
      ]
    },
    {
      "cell_type": "markdown",
      "metadata": {
        "id": "i1IdkI16zKjm",
        "colab_type": "text"
      },
      "source": [
        "![Image here](https://raw.githubusercontent.com/kaushil24/DS-Cookbook101/master/Media/count_plot_rotated_X_labels.png)"
      ]
    },
    {
      "cell_type": "markdown",
      "metadata": {
        "id": "40N6hFgkXbZx",
        "colab_type": "text"
      },
      "source": [
        "**Approach 2:**\n",
        "```\n",
        "plt.figure(figsize=(10,5))\n",
        "chart = sns.countplot(\n",
        "    data=data[data['Year'] == 1980],\n",
        "    x='Sport',\n",
        "    palette='Set1'\n",
        ")\n",
        "chart.set_xticklabels(chart.get_xticklabels(), rotation=45)\n",
        "```"
      ]
    },
    {
      "cell_type": "markdown",
      "metadata": {
        "id": "9VYQQhKxn1yo",
        "colab_type": "text"
      },
      "source": [
        "## Distribution Plot:"
      ]
    },
    {
      "cell_type": "markdown",
      "metadata": {
        "id": "vafrYJRVn8sB",
        "colab_type": "text"
      },
      "source": [
        "```\n",
        "sns.distplot(df['col_name'])\n",
        "```"
      ]
    },
    {
      "cell_type": "markdown",
      "metadata": {
        "id": "YMUP4uO4n5zf",
        "colab_type": "text"
      },
      "source": [
        "### To compare your distribution with normal distribution on the same plot\n",
        "```\n",
        "from scipy.stats import norm\n",
        "sns.distplot(df['col'], fit=norm)\n",
        "```\n",
        "Something like this:\n",
        "![alt text](https://i.imgur.com/XRj7Z4T.png)"
      ]
    },
    {
      "cell_type": "markdown",
      "metadata": {
        "id": "8MmmDA5II5uy",
        "colab_type": "text"
      },
      "source": [
        "### Modify x-axis label range:\n",
        "\n",
        "```\n",
        "plt.subplots(figsize = (width, height))\n",
        "sns.distplot(df[col], color = 'g')\n",
        "plt.xticks([i for i in range(start_x_axis, end_x_axis , bin_width )])\n",
        "plt.show()\n",
        "```\n"
      ]
    },
    {
      "cell_type": "markdown",
      "metadata": {
        "id": "r8tTA2GiJQaV",
        "colab_type": "text"
      },
      "source": [
        "### Multiple Distribution plots on same graph:"
      ]
    },
    {
      "cell_type": "markdown",
      "metadata": {
        "id": "PCGuWjkzKVst",
        "colab_type": "text"
      },
      "source": [
        "Used to compare multiple distributions on same scale. <br>\n",
        "For eg: You want to compare age dirstibution of those people who were geanted loan andfor those who were not granted loans, you can use this to plot everything on the same graph. "
      ]
    },
    {
      "cell_type": "markdown",
      "metadata": {
        "id": "lvv5iqGmJUb9",
        "colab_type": "text"
      },
      "source": [
        "```\n",
        "sns.distplot( df['col_1'] ) # (Optional paramete to change color color = 'b' )  \n",
        "sns.distplot( df['col_2'] )\n",
        "plt.legend(['col_1', 'col_2'])\n",
        "```"
      ]
    },
    {
      "cell_type": "markdown",
      "metadata": {
        "id": "5LxnEy6_p4Lh",
        "colab_type": "text"
      },
      "source": [
        "### Probability plot \n",
        "**Note: This is not a Seaborn function, but since this section has all the plotting functions, I'll add it here:**"
      ]
    },
    {
      "cell_type": "markdown",
      "metadata": {
        "id": "rdxkebIAq_po",
        "colab_type": "text"
      },
      "source": [
        "```\n",
        "from scipy import stats\n",
        "import matplotlib.pyplot as plt\n",
        "stats.pairplot(df['col'], plot = plt)\n",
        "```"
      ]
    },
    {
      "cell_type": "markdown",
      "metadata": {
        "id": "WMoV8_oHoGPr",
        "colab_type": "text"
      },
      "source": [
        "## Scatter Plot:"
      ]
    },
    {
      "cell_type": "markdown",
      "metadata": {
        "id": "g1-avQdX2CCo",
        "colab_type": "text"
      },
      "source": [
        "Note: You can also directly pass a vector to 'x' and 'y'. <br>\n",
        "Docs: https://seaborn.pydata.org/generated/seaborn.scatterplot.html"
      ]
    },
    {
      "cell_type": "markdown",
      "metadata": {
        "id": "2fyqCODn12H1",
        "colab_type": "text"
      },
      "source": [
        "```\n",
        "sns.scatterplot(x = 'col_name', y = 'col_name', data = dataFrame, hue = 'col_name')\n",
        "```"
      ]
    },
    {
      "cell_type": "markdown",
      "metadata": {
        "id": "ZDKJs-8FFIjv",
        "colab_type": "text"
      },
      "source": [
        "## Frequency distribution histogram:\n",
        "(aka countplot)"
      ]
    },
    {
      "cell_type": "markdown",
      "metadata": {
        "id": "7mtKefyPFNRK",
        "colab_type": "text"
      },
      "source": [
        "```\n",
        "sns.countplot(x = 'col_name', hue = 'hues', data=df, order = df['col_name'].value_counts().index)\n",
        "```"
      ]
    },
    {
      "cell_type": "markdown",
      "metadata": {
        "id": "Qvv0sK7_2BRT",
        "colab_type": "text"
      },
      "source": [
        "## Box Plot <br>"
      ]
    },
    {
      "cell_type": "markdown",
      "metadata": {
        "id": "flR-turAMoSY",
        "colab_type": "text"
      },
      "source": [
        "For categorical features, you can directly pass the string of the feature name and sns will automatically draw an individual boxplot for each category occuring in that feature. "
      ]
    },
    {
      "cell_type": "markdown",
      "metadata": {
        "id": "fqkfuG-zNDjd",
        "colab_type": "text"
      },
      "source": [
        "```\n",
        "sns.boxplot(x = 'col_name', y = 'col_name', data = dataFrame)\n",
        "```\n"
      ]
    },
    {
      "cell_type": "markdown",
      "metadata": {
        "id": "ixQxssrE_90Y",
        "colab_type": "text"
      },
      "source": [
        "## Violin Plot"
      ]
    },
    {
      "cell_type": "markdown",
      "metadata": {
        "id": "PaD7OGgIAAoZ",
        "colab_type": "text"
      },
      "source": [
        "```\n",
        "plt.figure(figsize = (10, 8))\n",
        "sns.violinplot(df[col], inner = 'quartile', orient = 'v')\n",
        "plt.show()\n",
        "```\n"
      ]
    },
    {
      "cell_type": "markdown",
      "metadata": {
        "id": "jFvt7C-5iGPN",
        "colab_type": "text"
      },
      "source": [
        "## Heat Map"
      ]
    },
    {
      "cell_type": "markdown",
      "metadata": {
        "id": "DhrUyLXgiIxz",
        "colab_type": "text"
      },
      "source": [
        "https://seaborn.pydata.org/generated/seaborn.heatmap.html\n",
        "```\n",
        "import matplotlib.pyplot as plt\n",
        "colormap = plt.cm.RdBu\n",
        "sns.heatmap(cor, annot=True, linewidths = float, cmap=colormap linecolor='black')\n",
        "```\n",
        "**Note: If you dont want to dipslay the numeric value of each cell, put annot=False**"
      ]
    },
    {
      "cell_type": "markdown",
      "metadata": {
        "id": "eaKnmQgrNL7h",
        "colab_type": "text"
      },
      "source": [
        "### Corelation matrix:\n",
        "An easy way to visualize corealtion is to use heat map. Use the following snippet to display heat map.\n",
        "```\n",
        "corr_mtx = df.corr()\n",
        "sns.heatmap(corr_mtx, annot = True)\n",
        "```"
      ]
    },
    {
      "cell_type": "markdown",
      "metadata": {
        "id": "eE15UUk2izqW",
        "colab_type": "text"
      },
      "source": [
        "### Display heat map of only those columns with corelation greater than threshold (theta)\n",
        "```\n",
        "cor = df.corr()\n",
        "cols = cor[cor > theta].notnull().sum() > 1\n",
        "sns.heatmap(cor.loc[cols, cols])\n",
        "```"
      ]
    },
    {
      "cell_type": "markdown",
      "metadata": {
        "id": "7SaFszbEsI6H",
        "colab_type": "text"
      },
      "source": [
        "### Highlight cells with corelation values greater than threshold"
      ]
    },
    {
      "cell_type": "markdown",
      "metadata": {
        "id": "x2stQLo-wHof",
        "colab_type": "text"
      },
      "source": [
        "```\n",
        "sns.heatmap(cor[:][(cor>theta) | (cor< -theta)], annot=True, linewidths=1, linecolor='white')\n",
        "```"
      ]
    },
    {
      "cell_type": "markdown",
      "metadata": {
        "id": "FyQ41AzUqYJJ",
        "colab_type": "text"
      },
      "source": [
        "**EXPLAINATION**<br>\n",
        "* ```cor[:]``` -> Means all the columns of correlation matrix\n",
        "* ```cor[:][(cor>theta) | (cor< -theta)]``` -> Means all those rows having values either greater than theta or lesser than theta. The \"|\" means logical or operator. "
      ]
    },
    {
      "cell_type": "markdown",
      "metadata": {
        "id": "4DsqhY5yuN29",
        "colab_type": "text"
      },
      "source": [
        "![something like this ](https://i.imgur.com/XWiQsem.png)"
      ]
    },
    {
      "cell_type": "markdown",
      "metadata": {
        "id": "owlXY00PxpeC",
        "colab_type": "text"
      },
      "source": [
        "## Pair Plot\n",
        "Used to plot pairwise relationship in a dataset. <br> \n",
        "**ONE OF THE BEST CHARTS TO SEE RELATIONSHIPS**"
      ]
    },
    {
      "cell_type": "markdown",
      "metadata": {
        "id": "tkHK13J_xqC0",
        "colab_type": "text"
      },
      "source": [
        "```\n",
        "sns.pair(df[col_list])\n",
        "```"
      ]
    },
    {
      "cell_type": "markdown",
      "metadata": {
        "id": "hD4AzvgPhoX8",
        "colab_type": "text"
      },
      "source": [
        "## Pie Chart\n",
        "Using matplotlib for this one. <br>\n",
        "The ```autopct=\"%1.1f%%\"``` is used to display % in the graph."
      ]
    },
    {
      "cell_type": "markdown",
      "metadata": {
        "id": "BxF9_ShJhzMR",
        "colab_type": "text"
      },
      "source": [
        "```\n",
        "col_name = 'col_name'\n",
        "unique_values_count = [ (df[col_name]==a).sum() for a in df[col_name].value_counts().index]\n",
        "labels = df[col_name].value_counts().index\n",
        "plt.pie(unique_values_count, labels=labels, autopct=\"%1.1f%%\")\n",
        "plt.legend()\n",
        "plt.show()\n",
        "```"
      ]
    },
    {
      "cell_type": "markdown",
      "metadata": {
        "id": "3m59bBAPWMk-",
        "colab_type": "text"
      },
      "source": [
        "## Multiple Plots"
      ]
    },
    {
      "cell_type": "markdown",
      "metadata": {
        "id": "1oiAndOxXDzt",
        "colab_type": "text"
      },
      "source": [
        "Generic code for 1 dimentional multiple plot:\n",
        "```\n",
        "c = 2\n",
        "f, axes = plt.subplots(nrows = 1, ncols = c, figsize = (c * width_of_each_plot, height_of_each_plot))\n",
        "\n",
        "for i in range(c):\n",
        "  sns.countplot(df[col], ax = axes[i])\n",
        "\n",
        "plt.show()\n",
        "```"
      ]
    },
    {
      "cell_type": "markdown",
      "metadata": {
        "id": "kxobX1sdWR5Z",
        "colab_type": "text"
      },
      "source": [
        "Generic code for 2 dimentional multiple plot:\n",
        "```\n",
        "r, c = 2, 2\n",
        "f, axes = plt.subplots(nrows = r, ncols = c, figsize = (c * width_of_each_plot, r * height_of_each_plot))\n",
        "\n",
        "for i in range(r):\n",
        "  for j in range(c):\n",
        "    sns.countplot(df[col], ax = axes[i, j])\n",
        "\n",
        "plt.show()\n",
        "```"
      ]
    },
    {
      "cell_type": "markdown",
      "metadata": {
        "id": "O_5ZwJa0XDUM",
        "colab_type": "text"
      },
      "source": [
        "### Code for plotting numeric columns on grid plots: <br>\n",
        "Decide `r, c` such that the length of your `numeric_cols` is closest to `r*c`. Eg, if `len(numeric_cols)` is 11, possible values of `r,c` are `r = 3, c = 4` or `r = 4, c = 3` or `r = 2, c = 6` etc. <br>\n",
        "The `try...except` block is to prevent `index out of bound error`.  \n",
        "```\n",
        "numeric_cols = df.select_dtypes(exclude = 'object').columns.to_list()\n",
        "print(len(numeric_cols))\n",
        "r, c = 3, 4\n",
        "f, axes = plt.subplots(nrows = 3, ncols = 4, figsize = (4*8, 3*8))\n",
        "try:\n",
        "    for i in range(r):\n",
        "        for j in range(c):\n",
        "            idx = i*c + j\n",
        "            p = sns.distplot(df[numeric_cols[idx]], ax = axes[i, j])\n",
        "            p.set_xlabel(numeric_cols[idx],fontsize=25)\n",
        "except:\n",
        "    pass\n",
        "```\n",
        " "
      ]
    },
    {
      "cell_type": "markdown",
      "metadata": {
        "id": "UjXlRIrpg4JL",
        "colab_type": "text"
      },
      "source": [
        "### Simillarly for plotting categorical columns on  grid plot:\n",
        "```\n",
        "cat_cols = df.select_dtypes(include = 'object').columns.to_list()\n",
        "print(len(cat_cols))\n",
        "r, c = 3, 4\n",
        "f, axes = plt.subplots(nrows = 3, ncols = 4, figsize = (4*8, 3*8))\n",
        "try:\n",
        "    for i in range(r):\n",
        "        for j in range(c):\n",
        "            idx = i*c + j\n",
        "            sns.distplot(df[cat_cols[idx]], ax = axes[i, j]).set_xlabel(cat_cols[idx],fontsize=25)\n",
        "except:\n",
        "    pass\n",
        "```"
      ]
    }
  ]
}